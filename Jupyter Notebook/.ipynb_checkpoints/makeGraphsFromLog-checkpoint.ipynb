{
 "cells": [
  {
   "cell_type": "code",
   "execution_count": 1,
   "metadata": {},
   "outputs": [],
   "source": [
    "import pandas as pd\n",
    "import seaborn as sns\n",
    "import matplotlib.pyplot as plt\n",
    "import numpy as np\n",
    "import math\n",
    "import copy\n",
    "sns.set_context(\"paper\")\n",
    "sns.set(style=\"whitegrid\")"
   ]
  },
  {
   "cell_type": "code",
   "execution_count": 2,
   "metadata": {},
   "outputs": [],
   "source": [
    "def makeDataFrameFromFile(filename, percentage):\n",
    "    with open(filename) as openfileobject:\n",
    "        acc_before_pruning = []\n",
    "        acc_after_pruning = []\n",
    "        batches = []\n",
    "        filters_per_layer = []\n",
    "        full_accuracy_list = []\n",
    "        tagged = False\n",
    "        for line in openfileobject:\n",
    "            #if \"hard pruned\" in line:\n",
    "            #    number = int(line.split(\"hard pruned \")[1].split(\" filters\")[0])\n",
    "            #    print(number)\n",
    "            if \"Accuracy\" in line or \"accuracy\" in line:\n",
    "                if \"Couldn't reach original accuracy\" in line: \n",
    "                    continue\n",
    "                number = float(line.split(\"%\")[0].split(\" \")[-1])\n",
    "                full_accuracy_list.append(number)\n",
    "            if \"INFO:lightnet.FLIR.prune:Filters before pruning:\" in line or\\\n",
    "            \"INFO:lightnet.FLIR.prune:Filters after pruning:\" in line:\n",
    "                tagged = True\n",
    "                continue\n",
    "            if tagged == True:\n",
    "            #if \"INFO:lightnet.FLIR.prune:[\" in line and \"Pruned\" not in line:\n",
    "                layer = []\n",
    "                string = line.split(\"INFO:lightnet.FLIR.prune:[\")[1].split(\"]\")[0]\n",
    "                layer = string.split(\", \")\n",
    "                count = 0\n",
    "                for filter in layer:\n",
    "                    layer[count] = float(filter)\n",
    "                    count += 1 \n",
    "                filters_per_layer.append(layer)\n",
    "                tagged = False\n",
    "            if \"Trained for\" in line:\n",
    "                number = float(line.split(\"Trained for \")[1].split(\" batches\")[0])\n",
    "                batches.append(number)\n",
    "            if \"Original accuracy\" in line:\n",
    "                number = float(line.split(\"INFO:lightnet.FLIR.prune:Original accuracy is \")[1].split(\"%\")[0])\n",
    "                acc_before_pruning.append(number)\n",
    "            elif \"Accuracy after retraining\" in line:\n",
    "                number = float(line.split(\"Accuracy after retraining: \")[1].split(\"%\")[0])\n",
    "                acc_before_pruning.append(number)\n",
    "            elif \"Accuracy after pruning\" in line:\n",
    "                number = float(line.split(\"Accuracy after pruning: \")[1].split(\"%\")[0])\n",
    "                acc_after_pruning.append(number)\n",
    "\n",
    "        # No duplicates\n",
    "        def Remove(duplicate): \n",
    "            final_list = [] \n",
    "            for num in duplicate: \n",
    "                if num not in final_list: \n",
    "                    final_list.append(num) \n",
    "            return final_list \n",
    "        \n",
    "        filters_per_layer = Remove(filters_per_layer)\n",
    "        \n",
    "        percentage_pruned = []\n",
    "        for number in range(len(acc_before_pruning)+1):\n",
    "            percentage_pruned.append(round(100*(1-(1 - (percentage / 100))**(number+1)),2))\n",
    "            #percentage_pruned.append(int(100*(1-(1 - (percentage / 100))**(number+1))))\n",
    "        print(percentage_pruned)\n",
    "        \n",
    "        real_percentage_pruned = []\n",
    "        count = -1\n",
    "        totalnumber = 0\n",
    "        for iteration in filters_per_layer:\n",
    "            count += 1\n",
    "            if count == 0:\n",
    "                for filter in iteration:\n",
    "                    totalnumber += filter\n",
    "                continue\n",
    "            number = 0\n",
    "            for filter in iteration:\n",
    "                    number += filter\n",
    "            real_percentage_pruned.append(round(100 * (1-number/totalnumber),2))\n",
    "        print(real_percentage_pruned)\n",
    "            \n",
    "        data = []\n",
    "        for iteration in range(len(acc_after_pruning)):\n",
    "            i = []\n",
    "            i.append(acc_before_pruning[iteration])\n",
    "            i.append(acc_after_pruning[iteration])\n",
    "            i.append(acc_before_pruning[iteration] - acc_after_pruning[iteration])\n",
    "            i.append(percentage_pruned[iteration])\n",
    "            i.append(batches[iteration])\n",
    "            if batches[iteration] == 10000:\n",
    "                i.append(False)\n",
    "            else:\n",
    "                i.append(True)\n",
    "            i.append(str(percentage))\n",
    "            data.append(i)\n",
    "        i = [acc_before_pruning[len(acc_before_pruning)-1], None, None, percentage_pruned[len(acc_before_pruning)-1]]\n",
    "        data.append(i)\n",
    "\n",
    "        accuracy = pd.DataFrame(data, columns = ['Before pruning', 'After pruning', 'Accuracy loss',\\\n",
    "                                                 'Percentage pruned', 'Batches trained' , 'Top limit', 'Percentage'])\n",
    "        return accuracy, filters_per_layer, full_accuracy_list"
   ]
  },
  {
   "cell_type": "code",
   "execution_count": 3,
   "metadata": {},
   "outputs": [],
   "source": [
    "def printAccuracy(accuracy):\n",
    "    # Accuracy before vs after pruning\n",
    "    plt.subplots(figsize=(14, 8))\n",
    "    #plt.ylim(0, 100)\n",
    "    plot = sns.barplot(x='Percentage pruned' ,y='Before pruning', data=accuracy, color='#557000')\n",
    "    plot = sns.barplot(x='Percentage pruned' ,y='After pruning', data=accuracy, color='#639c0e')\n",
    "    plot.set(xlabel = 'Percentage pruned [%]', ylabel = 'Accuracy [%]')\n",
    "    plot.set_xticklabels(plot.get_xticklabels(), rotation=45)\n",
    "    return plot"
   ]
  },
  {
   "cell_type": "code",
   "execution_count": 4,
   "metadata": {},
   "outputs": [],
   "source": [
    "def printAccuracyLoss(accuracy):\n",
    "    # Accuracy drop from pruning\n",
    "    plt.subplots(figsize=(14, 8))\n",
    "    #plt.ylim(0, 100)\n",
    "    plot = sns.barplot(x='Percentage pruned' ,y='Accuracy loss', data=accuracy, color='#9c150e')\n",
    "    plot.set(xlabel = 'Percentage pruned [%]', ylabel = 'Accuracy loss [%]')\n",
    "    return plot"
   ]
  },
  {
   "cell_type": "code",
   "execution_count": 5,
   "metadata": {},
   "outputs": [],
   "source": [
    "def printFiltersPerLayer(filters):\n",
    "    # FiltersPerLayer before and after being pruned\n",
    "  \n",
    "    index = []\n",
    "    for i in range(len(filters[0])):\n",
    "        index.append([filters[0][i], filters[1][i]])\n",
    "    \n",
    "    amount = pd.DataFrame(index, columns = ['Unpruned', 'Pruned'])\n",
    "    \n",
    "    plt.subplots(figsize=(14, 8))\n",
    "    plot = sns.barplot(x=amount.index, y='Unpruned', data=amount, color='#557000')\n",
    "    plot = sns.barplot(x=amount.index, y='Pruned', data=amount, color='#639c0e')\n",
    "    plot.set(xlabel = 'Convolution layer', ylabel = 'Amount of filters')\n",
    "    return plot"
   ]
  },
  {
   "cell_type": "code",
   "execution_count": 6,
   "metadata": {},
   "outputs": [],
   "source": [
    "def printFiltersPerLayerPercentage(filters):\n",
    "    # FiltersPerLayer before and after being pruned\n",
    "  \n",
    "    index = []\n",
    "    for i in range(len(filters[0])):\n",
    "        percentage = 100*(filters[0][i]-filters[1][i])/filters[0][i]\n",
    "        index.append(percentage)\n",
    "    \n",
    "    amount = pd.DataFrame(index, columns = ['Percentage pruned'])\n",
    "    \n",
    "    plt.subplots(figsize=(14, 8))\n",
    "    plt.ylim(0, 100)\n",
    "    plot = sns.barplot(x=amount.index, y='Percentage pruned', data=amount, color='#9c150e')\n",
    "    plot.set(xlabel = 'Convolution layer', ylabel = 'Amount of filters pruned [%]')\n",
    "    return plot"
   ]
  },
  {
   "cell_type": "code",
   "execution_count": 7,
   "metadata": {},
   "outputs": [],
   "source": [
    "def getFiltersOfLayers(filters_per_layer, layer1, layer2):\n",
    "    filters = []\n",
    "    filters.append(filters_per_layer[layer1])\n",
    "    filters.append(filters_per_layer[layer2])\n",
    "    return filters"
   ]
  },
  {
   "cell_type": "code",
   "execution_count": 8,
   "metadata": {},
   "outputs": [],
   "source": [
    "def printFullAccuracyGraph(full_accuracy_list):\n",
    "    df = pd.DataFrame(full_accuracy_list, columns = ['Accuracy'])\n",
    "    \n",
    "    plt.subplots(figsize=(14, 8))\n",
    "    #plt.ylim(0, 100)\n",
    "    plot = sns.lineplot(x=df.index, y='Accuracy', data=df, color='#9c150e')\n",
    "    plot.set(xlabel = 'Epoch', ylabel = 'Accuracy [%]')\n",
    "    return plot"
   ]
  },
  {
   "cell_type": "code",
   "execution_count": 9,
   "metadata": {},
   "outputs": [],
   "source": [
    "def makeHeatMap(filters_per_layer, percentage):  \n",
    "    filters_per_layer = copy.deepcopy(filters_per_layer)\n",
    "    fullLayer = copy.deepcopy(filters_per_layer[0])\n",
    "    for iteration in filters_per_layer:\n",
    "        count = 0\n",
    "        for layer in iteration:\n",
    "            iteration[count] = 100 - (100 * iteration[count] / fullLayer[count])\n",
    "            count += 1 \n",
    "        \n",
    "    df = pd.DataFrame({str(percentage.iloc[0]): filters_per_layer[1]},\n",
    "                    index=['Conv. Layer 0','Conv. Layer 1','Conv. Layer 2','Conv. Layer 3', 'Conv. Layer 4','Conv. Layer 5',\\\n",
    "                           'Conv. Layer 6','Conv. Layer 7','Conv. Layer 8','Conv. Layer 9','Conv. Layer 10',\\\n",
    "                           'Conv. Layer 11','Conv. Layer 12','Conv. Layer 13','Conv. Layer 14','Conv. Layer 15',\\\n",
    "                           'Conv. Layer 16','Conv. Layer 17','Conv. Layer 18','Conv. Layer 19','Conv. Layer 20',\\\n",
    "                           'Conv. Layer 21','Conv. Layer 22'])\n",
    "    \n",
    "    for i in range(len(filters_per_layer)-1):\n",
    "        if i == 0:\n",
    "            continue\n",
    "        df[str(percentage.iloc[i])] = filters_per_layer[i+1]\n",
    "\n",
    "    plt.subplots(figsize=(14, 8))\n",
    "    plot = sns.heatmap(df)\n",
    "    plot.invert_yaxis()\n",
    "    plot.set(xlabel = 'Percentage pruned')\n",
    "    return plot"
   ]
  },
  {
   "cell_type": "code",
   "execution_count": 10,
   "metadata": {},
   "outputs": [
    {
     "name": "stdout",
     "output_type": "stream",
     "text": [
      "[12.5, 23.44, 33.01, 41.38, 48.71, 55.12, 60.73, 65.64, 69.93, 73.69, 76.98, 79.86, 82.38, 84.58, 86.51, 88.19]\n",
      "[12.49, 23.42, 32.99, 41.37, 48.69, 55.09, 60.7, 65.61, 69.9, 73.66, 76.95, 79.83, 82.35, 84.55]\n",
      "[10.0, 19.0, 27.1, 34.39, 40.95, 46.86, 52.17, 56.95, 61.26, 65.13, 68.62, 71.76, 74.58, 77.12, 79.41, 81.47, 83.32, 84.99]\n",
      "[9.99, 18.99, 27.09, 34.37, 40.93, 46.84, 52.15, 56.94, 61.24, 65.11, 68.59, 71.72, 74.55, 77.09, 79.37, 81.43]\n",
      "[7.5, 14.44, 20.85, 26.79, 32.28, 37.36, 42.06, 46.4, 50.42, 54.14, 57.58, 60.76, 63.71, 66.43, 68.95, 71.27, 73.43, 75.42]\n",
      "[7.5, 14.43, 20.85, 26.78, 32.27, 37.34, 42.04, 46.38, 50.4, 54.11, 57.54, 60.73, 63.67, 66.39, 68.91, 71.23]\n",
      "[5.0, 9.75, 14.26, 18.55, 22.62, 26.49, 30.17, 33.66, 36.98, 40.13, 43.12, 45.96, 48.67, 51.23, 53.67, 55.99, 58.19, 60.28, 62.26, 64.15, 65.94, 67.65, 69.26, 70.8, 72.26, 73.65, 74.97, 76.22, 77.41, 78.54, 79.61, 80.63, 81.6, 82.52, 83.39, 84.22, 85.01, 85.76, 86.47, 87.15]\n",
      "[5.0, 9.74, 14.25, 18.53, 22.6, 26.47, 30.15, 33.64, 36.95, 40.09, 43.08, 45.93, 48.63, 51.2, 53.63, 55.94, 58.14, 60.23, 62.21, 64.09, 65.89, 67.59, 69.21, 70.74, 72.2, 73.59, 74.9, 76.15, 77.34, 78.47, 79.54, 80.56, 81.53, 82.44, 83.32, 84.15, 84.94, 85.69]\n"
     ]
    },
    {
     "name": "stderr",
     "output_type": "stream",
     "text": [
      "/home/bullseye/.local/lib/python3.6/site-packages/seaborn/axisgrid.py:715: UserWarning: Using the barplot function without specifying `order` is likely to produce an incorrect plot.\n",
      "  warnings.warn(warning)\n"
     ]
    },
    {
     "ename": "ValueError",
     "evalue": "Could not interpret input 'Percentage pruned'",
     "output_type": "error",
     "traceback": [
      "\u001b[0;31m---------------------------------------------------------------------------\u001b[0m",
      "\u001b[0;31mValueError\u001b[0m                                Traceback (most recent call last)",
      "\u001b[0;32m<ipython-input-10-fc41100f5fd5>\u001b[0m in \u001b[0;36m<module>\u001b[0;34m\u001b[0m\n\u001b[1;32m     12\u001b[0m \u001b[0;34m\u001b[0m\u001b[0m\n\u001b[1;32m     13\u001b[0m \u001b[0mg\u001b[0m \u001b[0;34m=\u001b[0m \u001b[0msns\u001b[0m\u001b[0;34m.\u001b[0m\u001b[0mFacetGrid\u001b[0m\u001b[0;34m(\u001b[0m\u001b[0mcombinedMethod\u001b[0m\u001b[0;34m,\u001b[0m \u001b[0mcol\u001b[0m\u001b[0;34m=\u001b[0m\u001b[0;34m'Percentage'\u001b[0m\u001b[0;34m,\u001b[0m \u001b[0mcol_wrap\u001b[0m\u001b[0;34m=\u001b[0m\u001b[0;36m2\u001b[0m\u001b[0;34m,\u001b[0m \u001b[0mylim\u001b[0m\u001b[0;34m=\u001b[0m\u001b[0;34m(\u001b[0m\u001b[0;36m0\u001b[0m\u001b[0;34m,\u001b[0m \u001b[0;36m70\u001b[0m\u001b[0;34m)\u001b[0m\u001b[0;34m)\u001b[0m\u001b[0;34m\u001b[0m\u001b[0;34m\u001b[0m\u001b[0m\n\u001b[0;32m---> 14\u001b[0;31m \u001b[0mg\u001b[0m\u001b[0;34m.\u001b[0m\u001b[0mmap\u001b[0m\u001b[0;34m(\u001b[0m\u001b[0msns\u001b[0m\u001b[0;34m.\u001b[0m\u001b[0mbarplot\u001b[0m\u001b[0;34m,\u001b[0m \u001b[0mx\u001b[0m\u001b[0;34m=\u001b[0m\u001b[0;34m'Percentage pruned'\u001b[0m \u001b[0;34m,\u001b[0m\u001b[0my\u001b[0m\u001b[0;34m=\u001b[0m\u001b[0;34m'Before pruning'\u001b[0m\u001b[0;34m,\u001b[0m \u001b[0mcolor\u001b[0m\u001b[0;34m=\u001b[0m\u001b[0;34m'#557000'\u001b[0m\u001b[0;34m)\u001b[0m\u001b[0;34m\u001b[0m\u001b[0;34m\u001b[0m\u001b[0m\n\u001b[0m\u001b[1;32m     15\u001b[0m \u001b[0mg\u001b[0m\u001b[0;34m.\u001b[0m\u001b[0mmap\u001b[0m\u001b[0;34m(\u001b[0m\u001b[0msns\u001b[0m\u001b[0;34m.\u001b[0m\u001b[0mbarplot\u001b[0m\u001b[0;34m,\u001b[0m \u001b[0mx\u001b[0m\u001b[0;34m=\u001b[0m\u001b[0;34m'Percentage pruned'\u001b[0m \u001b[0;34m,\u001b[0m\u001b[0my\u001b[0m\u001b[0;34m=\u001b[0m\u001b[0;34m'After pruning'\u001b[0m\u001b[0;34m,\u001b[0m \u001b[0mcolor\u001b[0m\u001b[0;34m=\u001b[0m\u001b[0;34m'#639c0e'\u001b[0m\u001b[0;34m)\u001b[0m\u001b[0;34m\u001b[0m\u001b[0;34m\u001b[0m\u001b[0m\n\u001b[1;32m     16\u001b[0m \u001b[0;34m\u001b[0m\u001b[0m\n",
      "\u001b[0;32m~/.local/lib/python3.6/site-packages/seaborn/axisgrid.py\u001b[0m in \u001b[0;36mmap\u001b[0;34m(self, func, *args, **kwargs)\u001b[0m\n\u001b[1;32m    752\u001b[0m \u001b[0;34m\u001b[0m\u001b[0m\n\u001b[1;32m    753\u001b[0m             \u001b[0;31m# Draw the plot\u001b[0m\u001b[0;34m\u001b[0m\u001b[0;34m\u001b[0m\u001b[0;34m\u001b[0m\u001b[0m\n\u001b[0;32m--> 754\u001b[0;31m             \u001b[0mself\u001b[0m\u001b[0;34m.\u001b[0m\u001b[0m_facet_plot\u001b[0m\u001b[0;34m(\u001b[0m\u001b[0mfunc\u001b[0m\u001b[0;34m,\u001b[0m \u001b[0max\u001b[0m\u001b[0;34m,\u001b[0m \u001b[0mplot_args\u001b[0m\u001b[0;34m,\u001b[0m \u001b[0mkwargs\u001b[0m\u001b[0;34m)\u001b[0m\u001b[0;34m\u001b[0m\u001b[0;34m\u001b[0m\u001b[0m\n\u001b[0m\u001b[1;32m    755\u001b[0m \u001b[0;34m\u001b[0m\u001b[0m\n\u001b[1;32m    756\u001b[0m         \u001b[0;31m# Finalize the annotations and layout\u001b[0m\u001b[0;34m\u001b[0m\u001b[0;34m\u001b[0m\u001b[0;34m\u001b[0m\u001b[0m\n",
      "\u001b[0;32m~/.local/lib/python3.6/site-packages/seaborn/axisgrid.py\u001b[0m in \u001b[0;36m_facet_plot\u001b[0;34m(self, func, ax, plot_args, plot_kwargs)\u001b[0m\n\u001b[1;32m    836\u001b[0m \u001b[0;34m\u001b[0m\u001b[0m\n\u001b[1;32m    837\u001b[0m         \u001b[0;31m# Draw the plot\u001b[0m\u001b[0;34m\u001b[0m\u001b[0;34m\u001b[0m\u001b[0;34m\u001b[0m\u001b[0m\n\u001b[0;32m--> 838\u001b[0;31m         \u001b[0mfunc\u001b[0m\u001b[0;34m(\u001b[0m\u001b[0;34m*\u001b[0m\u001b[0mplot_args\u001b[0m\u001b[0;34m,\u001b[0m \u001b[0;34m**\u001b[0m\u001b[0mplot_kwargs\u001b[0m\u001b[0;34m)\u001b[0m\u001b[0;34m\u001b[0m\u001b[0;34m\u001b[0m\u001b[0m\n\u001b[0m\u001b[1;32m    839\u001b[0m \u001b[0;34m\u001b[0m\u001b[0m\n\u001b[1;32m    840\u001b[0m         \u001b[0;31m# Sort out the supporting information\u001b[0m\u001b[0;34m\u001b[0m\u001b[0;34m\u001b[0m\u001b[0;34m\u001b[0m\u001b[0m\n",
      "\u001b[0;32m~/.local/lib/python3.6/site-packages/seaborn/categorical.py\u001b[0m in \u001b[0;36mbarplot\u001b[0;34m(x, y, hue, data, order, hue_order, estimator, ci, n_boot, units, orient, color, palette, saturation, errcolor, errwidth, capsize, dodge, ax, **kwargs)\u001b[0m\n\u001b[1;32m   3147\u001b[0m                           \u001b[0mestimator\u001b[0m\u001b[0;34m,\u001b[0m \u001b[0mci\u001b[0m\u001b[0;34m,\u001b[0m \u001b[0mn_boot\u001b[0m\u001b[0;34m,\u001b[0m \u001b[0munits\u001b[0m\u001b[0;34m,\u001b[0m\u001b[0;34m\u001b[0m\u001b[0;34m\u001b[0m\u001b[0m\n\u001b[1;32m   3148\u001b[0m                           \u001b[0morient\u001b[0m\u001b[0;34m,\u001b[0m \u001b[0mcolor\u001b[0m\u001b[0;34m,\u001b[0m \u001b[0mpalette\u001b[0m\u001b[0;34m,\u001b[0m \u001b[0msaturation\u001b[0m\u001b[0;34m,\u001b[0m\u001b[0;34m\u001b[0m\u001b[0;34m\u001b[0m\u001b[0m\n\u001b[0;32m-> 3149\u001b[0;31m                           errcolor, errwidth, capsize, dodge)\n\u001b[0m\u001b[1;32m   3150\u001b[0m \u001b[0;34m\u001b[0m\u001b[0m\n\u001b[1;32m   3151\u001b[0m     \u001b[0;32mif\u001b[0m \u001b[0max\u001b[0m \u001b[0;32mis\u001b[0m \u001b[0;32mNone\u001b[0m\u001b[0;34m:\u001b[0m\u001b[0;34m\u001b[0m\u001b[0;34m\u001b[0m\u001b[0m\n",
      "\u001b[0;32m~/.local/lib/python3.6/site-packages/seaborn/categorical.py\u001b[0m in \u001b[0;36m__init__\u001b[0;34m(self, x, y, hue, data, order, hue_order, estimator, ci, n_boot, units, orient, color, palette, saturation, errcolor, errwidth, capsize, dodge)\u001b[0m\n\u001b[1;32m   1605\u001b[0m         \u001b[0;34m\"\"\"Initialize the plotter.\"\"\"\u001b[0m\u001b[0;34m\u001b[0m\u001b[0;34m\u001b[0m\u001b[0m\n\u001b[1;32m   1606\u001b[0m         self.establish_variables(x, y, hue, data, orient,\n\u001b[0;32m-> 1607\u001b[0;31m                                  order, hue_order, units)\n\u001b[0m\u001b[1;32m   1608\u001b[0m         \u001b[0mself\u001b[0m\u001b[0;34m.\u001b[0m\u001b[0mestablish_colors\u001b[0m\u001b[0;34m(\u001b[0m\u001b[0mcolor\u001b[0m\u001b[0;34m,\u001b[0m \u001b[0mpalette\u001b[0m\u001b[0;34m,\u001b[0m \u001b[0msaturation\u001b[0m\u001b[0;34m)\u001b[0m\u001b[0;34m\u001b[0m\u001b[0;34m\u001b[0m\u001b[0m\n\u001b[1;32m   1609\u001b[0m         \u001b[0mself\u001b[0m\u001b[0;34m.\u001b[0m\u001b[0mestimate_statistic\u001b[0m\u001b[0;34m(\u001b[0m\u001b[0mestimator\u001b[0m\u001b[0;34m,\u001b[0m \u001b[0mci\u001b[0m\u001b[0;34m,\u001b[0m \u001b[0mn_boot\u001b[0m\u001b[0;34m)\u001b[0m\u001b[0;34m\u001b[0m\u001b[0;34m\u001b[0m\u001b[0m\n",
      "\u001b[0;32m~/.local/lib/python3.6/site-packages/seaborn/categorical.py\u001b[0m in \u001b[0;36mestablish_variables\u001b[0;34m(self, x, y, hue, data, orient, order, hue_order, units)\u001b[0m\n\u001b[1;32m    153\u001b[0m                 \u001b[0;32mif\u001b[0m \u001b[0misinstance\u001b[0m\u001b[0;34m(\u001b[0m\u001b[0minput\u001b[0m\u001b[0;34m,\u001b[0m \u001b[0mstring_types\u001b[0m\u001b[0;34m)\u001b[0m\u001b[0;34m:\u001b[0m\u001b[0;34m\u001b[0m\u001b[0;34m\u001b[0m\u001b[0m\n\u001b[1;32m    154\u001b[0m                     \u001b[0merr\u001b[0m \u001b[0;34m=\u001b[0m \u001b[0;34m\"Could not interpret input '{}'\"\u001b[0m\u001b[0;34m.\u001b[0m\u001b[0mformat\u001b[0m\u001b[0;34m(\u001b[0m\u001b[0minput\u001b[0m\u001b[0;34m)\u001b[0m\u001b[0;34m\u001b[0m\u001b[0;34m\u001b[0m\u001b[0m\n\u001b[0;32m--> 155\u001b[0;31m                     \u001b[0;32mraise\u001b[0m \u001b[0mValueError\u001b[0m\u001b[0;34m(\u001b[0m\u001b[0merr\u001b[0m\u001b[0;34m)\u001b[0m\u001b[0;34m\u001b[0m\u001b[0;34m\u001b[0m\u001b[0m\n\u001b[0m\u001b[1;32m    156\u001b[0m \u001b[0;34m\u001b[0m\u001b[0m\n\u001b[1;32m    157\u001b[0m             \u001b[0;31m# Figure out the plotting orientation\u001b[0m\u001b[0;34m\u001b[0m\u001b[0;34m\u001b[0m\u001b[0;34m\u001b[0m\u001b[0m\n",
      "\u001b[0;31mValueError\u001b[0m: Could not interpret input 'Percentage pruned'"
     ]
    },
    {
     "data": {
      "image/png": "[encoded data removed]",
      "text/plain": [
       "<Figure size 432x432 with 4 Axes>"
      ]
     },
     "metadata": {},
     "output_type": "display_data"
    }
   ],
   "source": [
    "method12, filters_per_layer_12, full_accuracy_list_12 = makeDataFrameFromFile('logs/l2-hard-12.5.log', 12.5)\n",
    "method10, filters_per_layer_10, full_accuracy_list_10 = makeDataFrameFromFile('logs/l2-hard-10.log', 10)\n",
    "method7, filters_per_layer_7, full_accuracy_list_7 = makeDataFrameFromFile('logs/l2-hard-7.5.log', 7.5)\n",
    "method5, filters_per_layer_5, full_accuracy_list_5 = makeDataFrameFromFile('logs/l2-hard-5.log', 5)\n",
    "\n",
    "filters12 = getFiltersOfLayers(filters_per_layer_12, 0, -1)\n",
    "filters10 = getFiltersOfLayers(filters_per_layer_10, 0, -1)\n",
    "filters7 = getFiltersOfLayers(filters_per_layer_7, 0, -1)\n",
    "filters5 = getFiltersOfLayers(filters_per_layer_5, 0, -1)\n",
    "\n",
    "combinedMethod = pd.concat([method12, method10, method7, method5])\n",
    "\n",
    "g = sns.FacetGrid(combinedMethod, col='Percentage', col_wrap=2, ylim=(0, 70))\n",
    "g.map(sns.barplot, x='Percentage pruned' ,y='Before pruning', data=method12, color='#557000')\n",
    "g.map(sns.barplot, x='Percentage pruned' ,y='After pruning', data=method12, color='#639c0e')\n",
    "\n",
    "\n",
    "print(combinedMethod)"
   ]
  },
  {
   "cell_type": "code",
   "execution_count": null,
   "metadata": {},
   "outputs": [],
   "source": [
    "# 12.5 PERCENT\n",
    "printAccuracy(method12)\n",
    "printFullAccuracyGraph(full_accuracy_list_12)"
   ]
  },
  {
   "cell_type": "code",
   "execution_count": null,
   "metadata": {},
   "outputs": [],
   "source": [
    "printFiltersPerLayer(filters12)\n",
    "printFiltersPerLayerPercentage(filters12)"
   ]
  },
  {
   "cell_type": "code",
   "execution_count": null,
   "metadata": {},
   "outputs": [],
   "source": [
    "makeHeatMap(filters_per_layer_12, method12['Percentage pruned'])"
   ]
  },
  {
   "cell_type": "code",
   "execution_count": null,
   "metadata": {},
   "outputs": [],
   "source": [
    "# 10 PERCENT\n",
    "printAccuracy(method10)\n",
    "printFullAccuracyGraph(full_accuracy_list_10)"
   ]
  },
  {
   "cell_type": "code",
   "execution_count": null,
   "metadata": {},
   "outputs": [],
   "source": [
    "printFiltersPerLayer(filters10)\n",
    "printFiltersPerLayerPercentage(filters10)"
   ]
  },
  {
   "cell_type": "code",
   "execution_count": null,
   "metadata": {},
   "outputs": [],
   "source": [
    "makeHeatMap(filters_per_layer_10, method10['Percentage pruned'])"
   ]
  },
  {
   "cell_type": "code",
   "execution_count": null,
   "metadata": {},
   "outputs": [],
   "source": [
    "# 7.5 PERCENT\n",
    "printAccuracy(method7)\n",
    "printFullAccuracyGraph(full_accuracy_list_7)"
   ]
  },
  {
   "cell_type": "code",
   "execution_count": null,
   "metadata": {},
   "outputs": [],
   "source": [
    "printFiltersPerLayer(filters7)\n",
    "printFiltersPerLayerPercentage(filters7)"
   ]
  },
  {
   "cell_type": "code",
   "execution_count": null,
   "metadata": {},
   "outputs": [],
   "source": [
    "makeHeatMap(filters_per_layer_7, method7['Percentage pruned'])"
   ]
  },
  {
   "cell_type": "code",
   "execution_count": null,
   "metadata": {},
   "outputs": [],
   "source": [
    "# 5 PERCENT\n",
    "printAccuracy(method5)\n",
    "printFullAccuracyGraph(full_accuracy_list_5)"
   ]
  },
  {
   "cell_type": "code",
   "execution_count": null,
   "metadata": {},
   "outputs": [],
   "source": [
    "printFiltersPerLayer(filters5)\n",
    "printFiltersPerLayerPercentage(filters5)"
   ]
  },
  {
   "cell_type": "code",
   "execution_count": null,
   "metadata": {},
   "outputs": [],
   "source": [
    "makeHeatMap(filters_per_layer_5, method5['Percentage pruned'])"
   ]
  }
 ],
 "metadata": {
  "kernelspec": {
   "display_name": "Python 3",
   "language": "python",
   "name": "python3"
  },
  "language_info": {
   "codemirror_mode": {
    "name": "ipython",
    "version": 3
   },
   "file_extension": ".py",
   "mimetype": "text/x-python",
   "name": "python",
   "nbconvert_exporter": "python",
   "pygments_lexer": "ipython3",
   "version": "3.6.8"
  }
 },
 "nbformat": 4,
 "nbformat_minor": 2
}
