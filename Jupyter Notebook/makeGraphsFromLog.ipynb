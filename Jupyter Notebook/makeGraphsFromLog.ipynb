{
 "cells": [
  {
   "cell_type": "code",
   "execution_count": 5,
   "metadata": {},
   "outputs": [],
   "source": [
    " import seaborn as sns\n",
    "    "
   ]
  },
  {
   "cell_type": "code",
   "execution_count": 9,
   "metadata": {},
   "outputs": [
    {
     "name": "stdout",
     "output_type": "stream",
     "text": [
      "DEBUG:lightnet.FLIR.prune:CUDA enabled\n",
      "\n",
      "DEBUG:lightnet.network.module._darknet:Loading weights from pytorch file\n",
      "\n",
      "INFO:lightnet.network.module._lightnet:Loading weights from file [backup/yolov2-416/final.pt]\n",
      "\n",
      "WARNING:brambox.io.parser.box._pandas:No 'pd_format' argument found, inferring format from file extension\n",
      "\n",
      "DEBUG:brambox.io.parser.box._pandas:Inferred Pandas format as 'hdf' from file extension [.h5]\n",
      "\n",
      "WARNING:brambox.io.parser.box._pandas:No 'pd_format' argument found, inferring format from file extension\n",
      "\n",
      "DEBUG:brambox.io.parser.box._pandas:Inferred Pandas format as 'hdf' from file extension [.h5]\n",
      "\n",
      "DEBUG:brambox.stat._matchboxes:Criteria is an internal ufunc, choosing faster apply path\n",
      "\n",
      "INFO:lightnet.FLIR.prune:Original accuracy is 65.70%\n",
      "\n",
      "INFO:lightnet.FLIR.prune:Pruning network\n",
      "\n",
      "INFO:lightnet.FLIR.prune:There are 10366 filters in convolutional layers, attempting to prune 518 filters\n",
      "\n",
      "INFO:lightnet.FLIR.prune:The final amount of filters after pruning is 9848\n",
      "\n",
      "INFO:lightnet.FLIR.prune:hard pruned 518 filters\n",
      "\n",
      "INFO:lightnet.FLIR.prune:Filters before pruning:\n",
      "\n",
      "INFO:lightnet.FLIR.prune:[32, 64, 128, 64, 128, 256, 128, 256, 512, 256, 512, 256, 512, 1024, 512, 1024, 512, 1024, 1024, 1024, 64, 1024, 30]\n",
      "\n",
      "INFO:lightnet.FLIR.prune:Filters after pruning:\n",
      "\n",
      "INFO:lightnet.FLIR.prune:[29, 64, 128, 64, 128, 256, 128, 256, 512, 256, 512, 256, 512, 1023, 509, 1023, 505, 521, 1024, 1024, 64, 1024, 30]\n",
      "\n",
      "DEBUG:brambox.stat._matchboxes:Criteria is an internal ufunc, choosing faster apply path\n",
      "\n",
      "INFO:lightnet.FLIR.prune:Accuracy after pruning: 65.48%\n",
      "\n",
      "INFO:lightnet.engine._engine:Start training\n",
      "\n",
      "INFO:lightnet.data._dataloading:Resizing network (480, 480)\n",
      "\n",
      "TRAIN:lightnet.engine._engine:1 Loss:0.12194 (Coord:0.03 Conf:0.09)\n",
      "\n",
      "TRAIN:lightnet.engine._engine:2 Loss:0.10315 (Coord:0.04 Conf:0.06)\n",
      "\n",
      "TRAIN:lightnet.engine._engine:3 Loss:0.11915 (Coord:0.03 Conf:0.09)\n",
      "\n",
      "TRAIN:lightnet.engine._engine:4 Loss:0.09989 (Coord:0.03 Conf:0.07)\n",
      "\n",
      "TRAIN:lightnet.engine._engine:5 Loss:0.12678 (Coord:0.07 Conf:0.06)\n",
      "\n",
      "TRAIN:lightnet.engine._engine:6 Loss:0.10690 (Coord:0.04 Conf:0.07)\n",
      "\n",
      "TRAIN:lightnet.engine._engine:7 Loss:0.08188 (Coord:0.03 Conf:0.06)\n",
      "\n",
      "TRAIN:lightnet.engine._engine:8 Loss:0.08109 (Coord:0.03 Conf:0.05)\n",
      "\n",
      "TRAIN:lightnet.engine._engine:9 Loss:0.11037 (Coord:0.03 Conf:0.08)\n",
      "\n",
      "TRAIN:lightnet.engine._engine:10 Loss:0.10337 (Coord:0.03 Conf:0.07)\n",
      "\n",
      "INFO:lightnet.data._dataloading:Resizing network (608, 608)\n",
      "\n"
     ]
    }
   ],
   "source": [
    "f = open(\"file.log\", \"r\")\n",
    "print(f.readline()) \n",
    "print(f.readline()) \n",
    "print(f.readline()) \n",
    "print(f.readline()) \n",
    "print(f.readline()) \n",
    "print(f.readline()) \n",
    "print(f.readline()) \n",
    "print(f.readline()) \n",
    "print(f.readline()) \n",
    "print(f.readline()) \n",
    "print(f.readline()) \n",
    "print(f.readline()) \n",
    "print(f.readline()) \n",
    "print(f.readline()) \n",
    "print(f.readline()) \n",
    "print(f.readline()) \n",
    "print(f.readline()) \n",
    "print(f.readline()) \n",
    "print(f.readline()) \n",
    "print(f.readline()) \n",
    "print(f.readline()) \n",
    "print(f.readline()) \n",
    "print(f.readline()) \n",
    "print(f.readline()) \n",
    "print(f.readline()) \n",
    "print(f.readline()) \n",
    "print(f.readline()) \n",
    "print(f.readline()) \n",
    "print(f.readline()) \n",
    "print(f.readline()) \n",
    "print(f.readline()) \n",
    "print(f.readline()) "
   ]
  },
  {
   "cell_type": "code",
   "execution_count": null,
   "metadata": {},
   "outputs": [],
   "source": []
  },
  {
   "cell_type": "code",
   "execution_count": null,
   "metadata": {},
   "outputs": [],
   "source": []
  },
  {
   "cell_type": "code",
   "execution_count": null,
   "metadata": {},
   "outputs": [],
   "source": []
  }
 ],
 "metadata": {
  "kernelspec": {
   "display_name": "Python 3",
   "language": "python",
   "name": "python3"
  },
  "language_info": {
   "codemirror_mode": {
    "name": "ipython",
    "version": 3
   },
   "file_extension": ".py",
   "mimetype": "text/x-python",
   "name": "python",
   "nbconvert_exporter": "python",
   "pygments_lexer": "ipython3",
   "version": "3.6.8"
  }
 },
 "nbformat": 4,
 "nbformat_minor": 2
}
